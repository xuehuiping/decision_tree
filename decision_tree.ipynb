{
 "cells": [
  {
   "cell_type": "code",
   "execution_count": 1,
   "metadata": {},
   "outputs": [
    {
     "name": "stdout",
     "output_type": "stream",
     "text": [
      "    ID  年龄 有工作 有自己的房子 信贷情况 类别\n",
      "0    1  青年   否      否   一般  否\n",
      "1    2  青年   否      否    好  否\n",
      "2    3  青年   是      否    好  是\n",
      "3    4  青年   是      是   一般  是\n",
      "4    5  青年   否      否   一般  否\n",
      "5    6  中年   否      否   一般  否\n",
      "6    7  中年   否      否    好  否\n",
      "7    8  中年   是      是    好  是\n",
      "8    9  中年   否      是  非常好  是\n",
      "9   10  中年   否      是  非常好  是\n",
      "10  11  老年   否      是  非常好  是\n",
      "11  12  老年   否      是    好  是\n",
      "12  13  老年   是      否    好  是\n",
      "13  14  老年   是      否  非常好  是\n",
      "14  15  老年   否      否   一般  否\n"
     ]
    }
   ],
   "source": [
    "\n",
    "import pandas as pd\n",
    "import numpy as np\n",
    "import math\n",
    "\n",
    "data = pd.read_csv('3-data.csv')\n",
    "print(data)\n"
   ]
  },
  {
   "cell_type": "code",
   "execution_count": 2,
   "metadata": {},
   "outputs": [],
   "source": [
    "\n",
    "def get_emp_entropy(arr):\n",
    "    '''\n",
    "    经验熵\n",
    "    :param arr:\n",
    "    :return:\n",
    "    '''\n",
    "    dict = {}\n",
    "    for a in arr:\n",
    "        if a in dict:\n",
    "            dict[a] += 1\n",
    "        else:\n",
    "            dict[a] = 1\n",
    "    # print(dict)\n",
    "    result = 0\n",
    "    for k, v in dict.items():\n",
    "        p = v / len(arr)\n",
    "        result += p * math.log(p, 2)\n",
    "    result = -1.0 * result\n",
    "    return result"
   ]
  },
  {
   "cell_type": "code",
   "execution_count": 3,
   "metadata": {},
   "outputs": [],
   "source": [
    "\n",
    "def get_emp_cond_entropy(arr_feature, classes):\n",
    "    '''\n",
    "    经验条件熵\n",
    "    :return:\n",
    "    '''\n",
    "    dict = {}\n",
    "    index = 0\n",
    "    classes = list(classes)\n",
    "    for a in arr_feature:\n",
    "        if a in dict:\n",
    "            dict[a].append(classes[index])\n",
    "        else:\n",
    "            dict[a] = list(classes[index])\n",
    "        index += 1\n",
    "    # print(dict)\n",
    "\n",
    "    result = 0\n",
    "    for k, v in dict.items():\n",
    "        p = len(v) / len(arr_feature)\n",
    "        result += p * get_emp_entropy(v)\n",
    "    return result"
   ]
  },
  {
   "cell_type": "code",
   "execution_count": 4,
   "metadata": {},
   "outputs": [],
   "source": [
    "\n",
    "def gain(arr_feature, classes):\n",
    "    '''\n",
    "    信息增益\n",
    "    '''\n",
    "    g = get_emp_entropy(classes) - get_emp_cond_entropy(arr_feature, classes)\n",
    "    return g"
   ]
  },
  {
   "cell_type": "code",
   "execution_count": 5,
   "metadata": {},
   "outputs": [
    {
     "name": "stdout",
     "output_type": "stream",
     "text": [
      "【类别】的经验熵：0.9709505944546686\n"
     ]
    }
   ],
   "source": [
    "\n",
    "classes = data['类别']\n",
    "H_D = get_emp_entropy(classes)\n",
    "print(\"【类别】的经验熵：{}\".format(H_D))"
   ]
  },
  {
   "cell_type": "code",
   "execution_count": 6,
   "metadata": {},
   "outputs": [
    {
     "name": "stdout",
     "output_type": "stream",
     "text": [
      "【年龄】的信息增益：0.08300749985576883\n"
     ]
    }
   ],
   "source": [
    "\n",
    "g_Age = gain(data['年龄'], classes)\n",
    "print(\"【年龄】的信息增益：{}\".format(g_Age))"
   ]
  },
  {
   "cell_type": "code",
   "execution_count": 7,
   "metadata": {},
   "outputs": [
    {
     "name": "stdout",
     "output_type": "stream",
     "text": [
      "【有工作】的信息增益：0.32365019815155627\n"
     ]
    }
   ],
   "source": [
    "\n",
    "g_Work = gain(data['有工作'], classes)\n",
    "print(\"【有工作】的信息增益：{}\".format(g_Work))"
   ]
  },
  {
   "cell_type": "code",
   "execution_count": 8,
   "metadata": {},
   "outputs": [
    {
     "name": "stdout",
     "output_type": "stream",
     "text": [
      "【有自己的房子】的信息增益：0.4199730940219749\n"
     ]
    }
   ],
   "source": [
    "\n",
    "g_House = gain(data['有自己的房子'], classes)\n",
    "print(\"【有自己的房子】的信息增益：{}\".format(g_House))"
   ]
  },
  {
   "cell_type": "code",
   "execution_count": 9,
   "metadata": {},
   "outputs": [
    {
     "name": "stdout",
     "output_type": "stream",
     "text": [
      "【信贷情况】的信息增益：0.36298956253708536\n"
     ]
    }
   ],
   "source": [
    "\n",
    "g_Credit = gain(data['信贷情况'], classes)\n",
    "print(\"【信贷情况】的信息增益：{}\".format(g_Credit))\n"
   ]
  },
  {
   "cell_type": "code",
   "execution_count": 10,
   "metadata": {},
   "outputs": [
    {
     "name": "stdout",
     "output_type": "stream",
     "text": [
      "第一次选择, 最优特征：有自己的房子\n"
     ]
    }
   ],
   "source": [
    "gains=[]\n",
    "features=[]\n",
    "\n",
    "gains.append(g_Age)\n",
    "features.append(\"年龄\")\n",
    "\n",
    "gains.append(g_Work)\n",
    "features.append(\"有工作\")\n",
    "\n",
    "gains.append(g_House)\n",
    "features.append(\"有自己的房子\")\n",
    "\n",
    "gains.append(g_Credit)\n",
    "features.append(\"信贷情况\")\n",
    "\n",
    "best=np.max(gains)\n",
    "index = gains.index(best)\n",
    "print('第一次选择, 最优特征：{}'.format(features[index]))"
   ]
  },
  {
   "cell_type": "code",
   "execution_count": 11,
   "metadata": {},
   "outputs": [
    {
     "name": "stdout",
     "output_type": "stream",
     "text": [
      "有自己的房子：是\n",
      "    ID  年龄 有工作 有自己的房子 信贷情况 类别\n",
      "3    4  青年   是      是   一般  是\n",
      "7    8  中年   是      是    好  是\n",
      "8    9  中年   否      是  非常好  是\n",
      "9   10  中年   否      是  非常好  是\n",
      "10  11  老年   否      是  非常好  是\n",
      "11  12  老年   否      是    好  是\n",
      "有自己的房子：否\n",
      "    ID  年龄 有工作 有自己的房子 信贷情况 类别\n",
      "0    1  青年   否      否   一般  否\n",
      "1    2  青年   否      否    好  否\n",
      "2    3  青年   是      否    好  是\n",
      "4    5  青年   否      否   一般  否\n",
      "5    6  中年   否      否   一般  否\n",
      "6    7  中年   否      否    好  否\n",
      "12  13  老年   是      否    好  是\n",
      "13  14  老年   是      否  非常好  是\n",
      "14  15  老年   否      否   一般  否\n"
     ]
    }
   ],
   "source": [
    "# 划分数据集\n",
    "D1 = data[data['有自己的房子'].isin( ['是'])]\n",
    "D2 = data[data['有自己的房子'].isin( ['否'])]\n",
    "print('有自己的房子：是')\n",
    "print(D1)\n",
    "print('有自己的房子：否')\n",
    "print(D2)"
   ]
  },
  {
   "cell_type": "code",
   "execution_count": 12,
   "metadata": {},
   "outputs": [
    {
     "name": "stdout",
     "output_type": "stream",
     "text": [
      "【年龄】的信息增益：0.2516291673878229\n",
      "【有工作】的信息增益：0.9182958340544896\n",
      "【信贷情况】的信息增益：0.47385138961004514\n",
      "第二次选择，最优特征：有工作\n"
     ]
    }
   ],
   "source": [
    "# 第二轮选择信息增益\n",
    "\n",
    "classes2 = D2['类别']\n",
    "H_D2 = get_emp_entropy(classes2)\n",
    "\n",
    "gains = []\n",
    "features = []\n",
    "\n",
    "G_D2_Age = H_D2 - get_emp_cond_entropy(D2['年龄'], classes2)\n",
    "print(\"【{}】的信息增益：{}\".format('年龄', G_D2_Age))\n",
    "gains.append(G_D2_Age)\n",
    "features.append('年龄')\n",
    "\n",
    "G_D2_Work = H_D2 - get_emp_cond_entropy(D2['有工作'], classes2)\n",
    "print(\"【{}】的信息增益：{}\".format('有工作', G_D2_Work))\n",
    "gains.append(G_D2_Work)\n",
    "features.append('有工作')\n",
    "\n",
    "G_D2_House = H_D2 - get_emp_cond_entropy(D2['信贷情况'], classes2)\n",
    "print(\"【{}】的信息增益：{}\".format('信贷情况', G_D2_House))\n",
    "gains.append(G_D2_House)\n",
    "features.append('信贷情况')\n",
    "\n",
    "best = np.max(gains)\n",
    "index = gains.index(best)\n",
    "print('第二次选择，最优特征：{}'.format(features[index]))"
   ]
  },
  {
   "cell_type": "code",
   "execution_count": 13,
   "metadata": {},
   "outputs": [],
   "source": [
    "def gain_ratio(arr_feature, classes):\n",
    "    '''\n",
    "    信息增益比\n",
    "    :param arr_feature:\n",
    "    :param classes:\n",
    "    :return:\n",
    "    '''\n",
    "    g_ratio = gain(arr_feature, classes) / get_emp_entropy(classes)\n",
    "    return g_ratio"
   ]
  },
  {
   "cell_type": "code",
   "execution_count": null,
   "metadata": {},
   "outputs": [],
   "source": []
  }
 ],
 "metadata": {
  "kernelspec": {
   "display_name": "Python 3",
   "language": "python",
   "name": "python3"
  },
  "language_info": {
   "codemirror_mode": {
    "name": "ipython",
    "version": 3
   },
   "file_extension": ".py",
   "mimetype": "text/x-python",
   "name": "python",
   "nbconvert_exporter": "python",
   "pygments_lexer": "ipython3",
   "version": "3.7.3"
  }
 },
 "nbformat": 4,
 "nbformat_minor": 2
}
